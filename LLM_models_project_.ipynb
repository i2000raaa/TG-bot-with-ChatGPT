{
  "cells": [
    {
      "cell_type": "code",
      "execution_count": null,
      "metadata": {
        "colab": {
          "base_uri": "https://localhost:8080/"
        },
        "id": "A4H7rvFw4Bk9",
        "outputId": "c50a7d51-f842-4336-a058-2847e8f6ae7d"
      },
      "outputs": [],
      "source": [
        "! pip install python-telegram-bot==13.1"
      ]
    },
    {
      "cell_type": "code",
      "execution_count": null,
      "metadata": {
        "colab": {
          "base_uri": "https://localhost:8080/"
        },
        "id": "1BcYR6r2CwK6",
        "outputId": "9c8ee727-6799-4d73-c983-418ef1f27e3f"
      },
      "outputs": [],
      "source": [
        "\n",
        "! pip install openai==0.28"
      ]
    },
    {
      "cell_type": "markdown",
      "metadata": {
        "id": "d8JaoGfyCxrE"
      },
      "source": [
        "### ChatGPT"
      ]
    },
    {
      "cell_type": "code",
      "execution_count": null,
      "metadata": {
        "id": "c9uazJTjC1Jr"
      },
      "outputs": [],
      "source": [
        "import openai\n",
        "\n",
        "openai.api_key = 'SECRET_TOKEN'\n",
        "\n",
        "def get_code(input_message, file_name, column_names, column_types, save_directory, save_name):\n",
        "    \"\"\"\n",
        "    input_message - промпт с заданием для chatGPT (string)\n",
        "\n",
        "    file_name - имя датафрейма, для которого выполняется промпт (string)\n",
        "\n",
        "    column_names - список с именами столбцов в датафрейме\n",
        "\n",
        "    column_types - словарь с типами столбцов вида {'имя столбца': 'формат данных столбца'} - ТУТ МОЖЕШЬ СДЕЛАТЬ КАК ТЕБЕ УДОБНЕЕ\n",
        "\n",
        "    save_directory - директория для сохранения результатов\n",
        "\n",
        "    save_name - с каким именем надо сохранить результат\n",
        "    \"\"\"\n",
        "\n",
        "    messages = [{'role': 'assistant', 'content': f\"\"\"Forget all previous messages from me.\n",
        "                                                    You are a senior python developer, your job is to carefully\n",
        "                                                    follow the given instructions to solve the require.\"\"\" + input_message +\n",
        "                                                    f\"\"\". The pd.DataFrame() object is placed in the {file_name} variable.\n",
        "                                                    This dataframe has columns {column_names}. Columns are defined as those\n",
        "                                                    data types: {column_types}. If the result of the program includes a picture (png files),\n",
        "                                                    write a code for saving graphs locally as png files, if the result is a text or table,\n",
        "                                                    write a code for saving it locally as excel file. Save those files\n",
        "                                                    in the directory {save_directory} with name {save_name}\"\"\" +\n",
        "                                                    \"\"\" Make sure to apply those restriction and follow them directly and\n",
        "                                                    do not skip any of them: 1. output with no introduction, no explaintation, only code;\n",
        "                                                    2. DONT MAKE ANY MISTAKES, check if you did any;\n",
        "                                                    3. only return python3 code, and nothing else;\n",
        "                                                    4. NO DOCUMENATION IN THE OUTPUT\"\"\"}]\n",
        "\n",
        "    completion = openai.ChatCompletion.create(model='gpt-3.5-turbo',\n",
        "                                        messages=messages,\n",
        "                                        temperature=0.5,\n",
        "                                        max_tokens=1000)\n",
        "\n",
        "    generated_code = completion['choices'][0]['message']['content']\n",
        "\n",
        "    if generated_code.find('```python\\n') != -1:\n",
        "\n",
        "        output_code = generated_code.split('```python\\n')[1].split('```')[0]\n",
        "\n",
        "    else:\n",
        "\n",
        "        output_code = generated_code\n",
        "\n",
        "    print(output_code)\n",
        "\n",
        "    return output_code"
      ]
    },
    {
      "cell_type": "markdown",
      "metadata": {
        "id": "Uuq28QqHElhY"
      },
      "source": [
        "### Функция предобработки данных"
      ]
    },
    {
      "cell_type": "markdown",
      "metadata": {
        "id": "HQSrcQkPDWFB"
      },
      "source": [
        "Определение типа файла и чтение"
      ]
    },
    {
      "cell_type": "code",
      "execution_count": null,
      "metadata": {
        "id": "uBHxWYFOEo3e"
      },
      "outputs": [],
      "source": [
        "def load(names, usecols = None, log = False, append = False, mem_reduce = False, tqdm_info = False):\n",
        "  def load_data(name):\n",
        "    name = name.replace('//', '\\\\')\n",
        "    d = None\n",
        "    if log:\n",
        "      print(name + 'is loading!')\n",
        "    if ('.xlsx' in name) or ('.xls' in name):\n",
        "      d = pd.read_excel(name)\n",
        "    elif '.csv' in name:\n",
        "      try:\n",
        "        d = csv.read_csv(name, read_options = pa.csv.ReadOptions(use_threads = True, column_names = usecols),\n",
        "                         parse_options = pa.csv.ParseOptions(delimiter = ';', ignore_empty_lines = True))\n",
        "        if len(d.column_names) == 1:\n",
        "          d = csv.read_csv(name, read_options = pa.csv.ReadOptions(use_threads = True, column_names = usecols),\n",
        "                         parse_options = pa.csv.ParseOptions(delimiter = ',', ignore_empty_lines = True))\n",
        "          if len(d.column_names) == 1:\n",
        "            d = csv.read_csv(name, read_options = pa.csv.ReadOptions(use_threads = True, column_names = usecols),\n",
        "                         parse_options = pa.csv.ParseOptions(delimiter = ';', ignore_empty_lines = True))\n",
        "\n",
        "        d = d.to_pandas(use_threads = True)\n",
        "\n",
        "      except:\n",
        "        try:\n",
        "          d = pd.read_csv(name, sep=';', usecols = usecols, encoding = 'utf-8_sig')\n",
        "          if len(d.columns) == 1:\n",
        "            d = pd.read_csv(name, sep=',', usecols = usecols, encoding = 'utf-8_sig')\n",
        "            if len(d.columns) == 1:\n",
        "              d = pd.read_csv(name, sep='\\t', usecols = usecols, encoding = 'utf-8_sig')\n",
        "\n",
        "        except:\n",
        "          try:\n",
        "            d = pd.read_csv(name, sep=';', usecols = usecols, encoding = 'cp1251')\n",
        "            if len(d.columns) == 1:\n",
        "              d = pd.read_csv(name, sep=',', usecols = usecols, encoding = 'cp1251')\n",
        "              if len(d.columns) == 1:\n",
        "                d = pd.read_csv(name, sep='\\t', usecols = usecols, encoding = 'cp1251')\n",
        "          except:\n",
        "            print('ERROR!!! ', name)\n",
        "    elif '.frt' in name or '.feather' in name:\n",
        "      try:\n",
        "        d = pd.read_feather(name, use_threads = True, columns = usecols)\n",
        "      except ArrowInvalid:\n",
        "        d = pd.DataFrame((feather.read_table(name, use_threads = True)).to_pylist())\n",
        "    elif '.pkl' in name:\n",
        "      with open(name, 'rb') as fp:\n",
        "        try:\n",
        "          d = pickle.load(fp)\n",
        "        except:\n",
        "          print(f'Fail to load {name}')\n",
        "          d = pd.DataFrame()\n",
        "    elif '.parquet' in name:\n",
        "      d = pd.read_parquet(name)\n",
        "    elif '.json.gz' in name:\n",
        "      d = pd.read_json(name, lines = True, compression = 'gzip')\n",
        "    elif '.json' in name:\n",
        "      with open(name, 'r') as fp:\n",
        "        d = json.load(fp)\n",
        "    if log:\n",
        "      print(name + ' is loaded!')\n",
        "    return d\n",
        "  if type(names) == str:\n",
        "    d = load_data(names)\n",
        "  else:\n",
        "    return 0\n",
        "  if type(d) == list and len(d) == 1:\n",
        "    return d[0]\n",
        "  else:\n",
        "    return d\n"
      ]
    },
    {
      "cell_type": "markdown",
      "metadata": {
        "id": "1xOJpadnDXee"
      },
      "source": [
        "Приведение к правильному типу столбцов датафрейма"
      ]
    },
    {
      "cell_type": "code",
      "execution_count": null,
      "metadata": {
        "id": "7IEMJPaUCdfo"
      },
      "outputs": [],
      "source": [
        "def clean_dataframe(df):\n",
        "    all_cols = df.columns\n",
        "    object_cols = df.select_dtypes(include=['object']).columns.tolist()\n",
        "\n",
        "    for col in all_cols:\n",
        "      if col in object_cols:\n",
        "        try:\n",
        "          df[col] = (\n",
        "                df[col].astype(str)\n",
        "                .str.replace(\",\", \".\")\n",
        "                .replace([\"-\", \"\", \" \", \"nan\", \"<NA>\", \"None\"], np.nan)\n",
        "            )\n",
        "          df[col] = df[col].astype('float64')\n",
        "        except:\n",
        "          df[col] = df[col]\n",
        "          pass\n",
        "      else:\n",
        "        df[col] = df[col]\n",
        "\n",
        "    return df"
      ]
    },
    {
      "cell_type": "markdown",
      "metadata": {
        "id": "WZusiD_0Dhqt"
      },
      "source": [
        "Удаление выбросов в датафрейме"
      ]
    },
    {
      "cell_type": "code",
      "execution_count": null,
      "metadata": {
        "id": "ugERcAOU4B63"
      },
      "outputs": [],
      "source": [
        "def remove_outliers(df):\n",
        "    numeric_cols = df.select_dtypes(include=['number']).columns\n",
        "\n",
        "    for col in numeric_cols:\n",
        "        q1 = df[col].quantile(0.25)\n",
        "        q3 = df[col].quantile(0.75)\n",
        "        iqr = q3 - q1\n",
        "        lower_bound = q1 - 1.5 * iqr\n",
        "        upper_bound = q3 + 1.5 * iqr\n",
        "        df = df[(df[col] >= lower_bound) & (df[col] <= upper_bound)]\n",
        "\n",
        "    return df"
      ]
    },
    {
      "cell_type": "markdown",
      "metadata": {
        "id": "fWVVOBzfGXNF"
      },
      "source": [
        "### Telegram Bot"
      ]
    },
    {
      "cell_type": "code",
      "execution_count": null,
      "metadata": {
        "id": "pb9Bh-hN9y1d"
      },
      "outputs": [],
      "source": [
        "import os\n",
        "import logging\n",
        "\n",
        "from sqlalchemy import create_engine\n",
        "\n",
        "from telegram.ext import CommandHandler, Updater, Filters, MessageHandler\n",
        "\n",
        "import pandas as pd\n",
        "import tqdm\n",
        "import pyarrow as pa\n",
        "import pyarrow.feather as feather\n",
        "import xml.etree.ElementTree as ET\n",
        "import json\n",
        "import pickle\n",
        "\n",
        "from tqdm import tqdm\n",
        "from datetime import timedelta\n",
        "from pyarrow import csv\n",
        "from pyarrow.lib import ArrowInvalid\n",
        "import hashlib\n",
        "\n",
        "import numpy as np\n",
        "import re\n",
        "import datetime\n",
        "import time\n",
        "import concurrent.futures"
      ]
    },
    {
      "cell_type": "code",
      "execution_count": null,
      "metadata": {
        "colab": {
          "base_uri": "https://localhost:8080/"
        },
        "id": "dXR4613yPYXw",
        "outputId": "24c06006-b0c6-4f0f-c4e9-2388acac36d4"
      },
      "outputs": [],
      "source": [
        "TOKEN = 'TG_TOKEN'\n",
        "\n",
        "'''Конфигурация бота'''\n",
        "logging.basicConfig(\n",
        "    format='%(asctime)s - %(name)s - %(levelname)s - %(message)s',\n",
        "    level=logging.INFO)\n",
        "\n",
        "\n",
        "def wake_up(update, context):\n",
        "    chat = update.effective_chat\n",
        "    name = update.message.chat.first_name\n",
        "\n",
        "    context.bot.send_message(\n",
        "        chat_id=chat.id,\n",
        "        text='Привет, {}. Загрузи файл с информацией в формате (название, URL, xpath запрос)'.format(name),\n",
        "    )\n",
        "\n",
        "\n",
        "def handle_message(update, context):\n",
        "\n",
        "    now = datetime.datetime.now()\n",
        "\n",
        "    chat = update.effective_chat\n",
        "\n",
        "    local_dir = '/content/'\n",
        "\n",
        "    input_message = update.message.caption\n",
        "\n",
        "    print(input_message)\n",
        "\n",
        "    if update.message.document is not None:\n",
        "\n",
        "        doc_message = update.message.document\n",
        "\n",
        "        file_name = doc_message[\"file_name\"]\n",
        "\n",
        "        context.bot.get_file(doc_message).download(file_name)\n",
        "\n",
        "    data = load(local_dir + file_name)\n",
        "    data = clean_dataframe(data)\n",
        "    data = remove_outliers(data)\n",
        "    column_types = dict()\n",
        "    column_names = data.columns.tolist()\n",
        "\n",
        "    for name in column_names:\n",
        "      column_types[name] = type(data[name][0])\n",
        "\n",
        "    data.to_csv(f'/content/correct_{file_name}')\n",
        "\n",
        "    count = 0\n",
        "\n",
        "    check = False\n",
        "\n",
        "    while check is False and count < 5:\n",
        "\n",
        "      output_code = get_code(input_message,\n",
        "                          f'/content/correct_{file_name}',\n",
        "                          column_names,\n",
        "                          column_types,\n",
        "                          '/content/sample_data/results',\n",
        "                          'result_test')\n",
        "\n",
        "      try:\n",
        "        print(count, '\\n')\n",
        "\n",
        "        exec(output_code)\n",
        "\n",
        "        break\n",
        "\n",
        "      except:\n",
        "\n",
        "        count += 1\n",
        "\n",
        "    folder = '/content/sample_data/results'\n",
        "\n",
        "    if len(os.listdir(folder)) != 0:\n",
        "      for index, filename in enumerate(os.listdir(folder)):\n",
        "          file_path = os.path.join(folder, filename)\n",
        "          with open(file_path, 'rb') as f:\n",
        "              update.message.reply_document(f, caption=f'Файл {index+1}')\n",
        "          try:\n",
        "              if os.path.isfile(file_path) or os.path.islink(file_path):\n",
        "                  os.unlink(file_path)\n",
        "          except Exception as e:\n",
        "              print(f'Не удалось удалить {file_path}. Причина: {e}')\n",
        "\n",
        "    else:\n",
        "      context.bot.send_message(\n",
        "        chat_id=chat.id,\n",
        "        text='Переформулируйте задачу',\n",
        "    )\n",
        "\n",
        "\n",
        "\n",
        "def main():\n",
        "    updater = Updater(token=TOKEN, use_context=True)\n",
        "\n",
        "    updater.dispatcher.add_handler(CommandHandler('start', wake_up))\n",
        "\n",
        "    updater.dispatcher.add_handler(\n",
        "         MessageHandler(Filters.document, handle_message))\n",
        "\n",
        "    updater.start_polling(poll_interval=0.10)\n",
        "    updater.idle()\n",
        "\n",
        "\n",
        "if __name__ == '__main__':\n",
        "    main()"
      ]
    }
  ],
  "metadata": {
    "colab": {
      "provenance": []
    },
    "kernelspec": {
      "display_name": "Python 3",
      "name": "python3"
    },
    "language_info": {
      "name": "python"
    }
  },
  "nbformat": 4,
  "nbformat_minor": 0
}
